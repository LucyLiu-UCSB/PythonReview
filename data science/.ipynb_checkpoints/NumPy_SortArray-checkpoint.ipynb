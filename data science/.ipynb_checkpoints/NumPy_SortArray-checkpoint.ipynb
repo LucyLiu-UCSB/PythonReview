{
 "cells": [
  {
   "cell_type": "code",
   "execution_count": 1,
   "metadata": {},
   "outputs": [],
   "source": [
    "import numpy as np"
   ]
  },
  {
   "cell_type": "markdown",
   "metadata": {},
   "source": [
    "## selection sort"
   ]
  },
  {
   "cell_type": "code",
   "execution_count": 3,
   "metadata": {},
   "outputs": [],
   "source": [
    "def selection_sort(x):\n",
    "    for i in range(len(x)):\n",
    "        swap = i + np.argmin(x[i:])\n",
    "        (x[i], x[swap]) = (x[swap], x[i])\n",
    "    return x\n",
    "\n",
    "x = np.array([2, 1, 5, 4, 3])"
   ]
  },
  {
   "cell_type": "code",
   "execution_count": 4,
   "metadata": {},
   "outputs": [
    {
     "data": {
      "text/plain": [
       "array([1, 2, 3, 4, 5])"
      ]
     },
     "execution_count": 4,
     "metadata": {},
     "output_type": "execute_result"
    }
   ],
   "source": [
    "selection_sort(x)"
   ]
  },
  {
   "cell_type": "code",
   "execution_count": 8,
   "metadata": {},
   "outputs": [
    {
     "data": {
      "text/plain": [
       "array([3, 2, 5, 4, 1])"
      ]
     },
     "execution_count": 8,
     "metadata": {},
     "output_type": "execute_result"
    }
   ],
   "source": [
    "np.random.shuffle(x) # shuffle x\n",
    "x"
   ]
  },
  {
   "cell_type": "markdown",
   "metadata": {},
   "source": [
    "## `np.sort` and `np.argsout`"
   ]
  },
  {
   "cell_type": "code",
   "execution_count": 13,
   "metadata": {},
   "outputs": [
    {
     "data": {
      "text/plain": [
       "array([1, 2, 3, 4, 5])"
      ]
     },
     "execution_count": 13,
     "metadata": {},
     "output_type": "execute_result"
    }
   ],
   "source": [
    "np.sort(x)"
   ]
  },
  {
   "cell_type": "code",
   "execution_count": 15,
   "metadata": {},
   "outputs": [
    {
     "data": {
      "text/plain": [
       "array([1, 2, 3, 4, 5])"
      ]
     },
     "execution_count": 15,
     "metadata": {},
     "output_type": "execute_result"
    }
   ],
   "source": [
    "x.sort()\n",
    "x"
   ]
  },
  {
   "cell_type": "code",
   "execution_count": 19,
   "metadata": {},
   "outputs": [
    {
     "data": {
      "text/plain": [
       "array([1, 5, 2, 4, 3])"
      ]
     },
     "execution_count": 19,
     "metadata": {},
     "output_type": "execute_result"
    }
   ],
   "source": [
    "np.random.shuffle(x) # shuffle x\n",
    "x"
   ]
  },
  {
   "cell_type": "code",
   "execution_count": 21,
   "metadata": {},
   "outputs": [
    {
     "name": "stdout",
     "output_type": "stream",
     "text": [
      "[0 2 4 3 1]\n"
     ]
    }
   ],
   "source": [
    "i = np.argsort(x)\n",
    "print(i)"
   ]
  },
  {
   "cell_type": "code",
   "execution_count": 22,
   "metadata": {},
   "outputs": [
    {
     "data": {
      "text/plain": [
       "array([1, 2, 3, 4, 5])"
      ]
     },
     "execution_count": 22,
     "metadata": {},
     "output_type": "execute_result"
    }
   ],
   "source": [
    "x[i] # is the sorted x"
   ]
  },
  {
   "cell_type": "markdown",
   "metadata": {},
   "source": [
    "## Sorting along rows and columns"
   ]
  },
  {
   "cell_type": "code",
   "execution_count": 24,
   "metadata": {},
   "outputs": [
    {
     "name": "stdout",
     "output_type": "stream",
     "text": [
      "[[6 3 7 4 6 9]\n",
      " [2 6 7 4 3 7]\n",
      " [7 2 5 4 1 7]\n",
      " [5 1 4 0 9 5]]\n"
     ]
    }
   ],
   "source": [
    "rand = np.random.RandomState(42)\n",
    "x = rand.randint(0, 10, (4, 6))\n",
    "print(x)"
   ]
  },
  {
   "cell_type": "code",
   "execution_count": 26,
   "metadata": {},
   "outputs": [
    {
     "data": {
      "text/plain": [
       "array([[2, 1, 4, 0, 1, 5],\n",
       "       [5, 2, 5, 4, 3, 7],\n",
       "       [6, 3, 7, 4, 6, 7],\n",
       "       [7, 6, 7, 4, 9, 9]])"
      ]
     },
     "execution_count": 26,
     "metadata": {},
     "output_type": "execute_result"
    }
   ],
   "source": [
    "np.sort(x, axis = 0) # sort each column"
   ]
  },
  {
   "cell_type": "markdown",
   "metadata": {},
   "source": [
    "## Partial sort: Partition"
   ]
  },
  {
   "cell_type": "code",
   "execution_count": 27,
   "metadata": {},
   "outputs": [
    {
     "data": {
      "text/plain": [
       "array([2, 1, 3, 4, 6, 5, 7])"
      ]
     },
     "execution_count": 27,
     "metadata": {},
     "output_type": "execute_result"
    }
   ],
   "source": [
    "x = np.array([ 7, 2, 3, 1, 6, 5, 4])\n",
    "np.partition(x, 3) # the first 3 are the 3 smallest numbers"
   ]
  },
  {
   "cell_type": "markdown",
   "metadata": {},
   "source": [
    "## Example: k-NN"
   ]
  },
  {
   "cell_type": "code",
   "execution_count": 31,
   "metadata": {},
   "outputs": [
    {
     "data": {
      "text/plain": [
       "<matplotlib.collections.PathCollection at 0x1a26175cf8>"
      ]
     },
     "execution_count": 31,
     "metadata": {},
     "output_type": "execute_result"
    },
    {
     "data": {
      "image/png": "[encoded data removed]",
      "text/plain": [
       "<Figure size 432x288 with 1 Axes>"
      ]
     },
     "metadata": {},
     "output_type": "display_data"
    }
   ],
   "source": [
    "x = rand.rand(10, 2) # U[0, 1]\n",
    "import matplotlib.pyplot as plt\n",
    "import seaborn; seaborn.set()\n",
    "plt.scatter(x[:, 0], x[:,1], s = 100)"
   ]
  },
  {
   "cell_type": "code",
   "execution_count": 50,
   "metadata": {},
   "outputs": [
    {
     "data": {
      "text/plain": [
       "(10, 10, 2)"
      ]
     },
     "execution_count": 50,
     "metadata": {},
     "output_type": "execute_result"
    }
   ],
   "source": [
    "differences = x[:, np.newaxis, :] - x[np.newaxis, :, :] # (10, 1, 2) - (1, 10, 2)\n",
    "differences.shape"
   ]
  },
  {
   "cell_type": "code",
   "execution_count": 62,
   "metadata": {},
   "outputs": [
    {
     "data": {
      "text/plain": [
       "array([[0.        , 0.03971432, 0.53615183, 0.30887652, 0.07137053,\n",
       "        0.43262538, 0.39806216, 0.01098053, 0.632568  , 0.78831133],\n",
       "       [0.03971432, 0.        , 0.78616274, 0.32892236, 0.12896638,\n",
       "        0.49330719, 0.29786335, 0.02082527, 0.81380738, 0.78422146],\n",
       "       [0.53615183, 0.78616274, 0.        , 0.33500633, 0.29276457,\n",
       "        0.24753085, 0.77233057, 0.5518468 , 0.07137869, 0.54583095],\n",
       "       [0.30887652, 0.32892236, 0.33500633, 0.        , 0.09309942,\n",
       "        0.02081182, 0.09187737, 0.23137254, 0.18856152, 0.11090307],\n",
       "       [0.07137053, 0.12896638, 0.29276457, 0.09309942, 0.        ,\n",
       "        0.15394115, 0.22480149, 0.05049831, 0.29722499, 0.40548423],\n",
       "       [0.43262538, 0.49330719, 0.24753085, 0.02081182, 0.15394115,\n",
       "        0.        , 0.18019287, 0.35545228, 0.09463239, 0.07721714],\n",
       "       [0.39806216, 0.29786335, 0.77233057, 0.09187737, 0.22480149,\n",
       "        0.18019287, 0.        , 0.27963512, 0.53373795, 0.18544834],\n",
       "       [0.01098053, 0.02082527, 0.5518468 , 0.23137254, 0.05049831,\n",
       "        0.35545228, 0.27963512, 0.        , 0.59252219, 0.65376276],\n",
       "       [0.632568  , 0.81380738, 0.07137869, 0.18856152, 0.29722499,\n",
       "        0.09463239, 0.53373795, 0.59252219, 0.        , 0.24489654],\n",
       "       [0.78831133, 0.78422146, 0.54583095, 0.11090307, 0.40548423,\n",
       "        0.07721714, 0.18544834, 0.65376276, 0.24489654, 0.        ]])"
      ]
     },
     "execution_count": 62,
     "metadata": {},
     "output_type": "execute_result"
    }
   ],
   "source": [
    "differences_sq = differences**2\n",
    "differences_sq.sum(axis = 2) # or axis = -1 clapse the last dimension"
   ]
  },
  {
   "cell_type": "code",
   "execution_count": 63,
   "metadata": {},
   "outputs": [
    {
     "data": {
      "text/plain": [
       "array([[0.        , 0.03971432, 0.53615183, 0.30887652, 0.07137053,\n",
       "        0.43262538, 0.39806216, 0.01098053, 0.632568  , 0.78831133],\n",
       "       [0.03971432, 0.        , 0.78616274, 0.32892236, 0.12896638,\n",
       "        0.49330719, 0.29786335, 0.02082527, 0.81380738, 0.78422146],\n",
       "       [0.53615183, 0.78616274, 0.        , 0.33500633, 0.29276457,\n",
       "        0.24753085, 0.77233057, 0.5518468 , 0.07137869, 0.54583095],\n",
       "       [0.30887652, 0.32892236, 0.33500633, 0.        , 0.09309942,\n",
       "        0.02081182, 0.09187737, 0.23137254, 0.18856152, 0.11090307],\n",
       "       [0.07137053, 0.12896638, 0.29276457, 0.09309942, 0.        ,\n",
       "        0.15394115, 0.22480149, 0.05049831, 0.29722499, 0.40548423],\n",
       "       [0.43262538, 0.49330719, 0.24753085, 0.02081182, 0.15394115,\n",
       "        0.        , 0.18019287, 0.35545228, 0.09463239, 0.07721714],\n",
       "       [0.39806216, 0.29786335, 0.77233057, 0.09187737, 0.22480149,\n",
       "        0.18019287, 0.        , 0.27963512, 0.53373795, 0.18544834],\n",
       "       [0.01098053, 0.02082527, 0.5518468 , 0.23137254, 0.05049831,\n",
       "        0.35545228, 0.27963512, 0.        , 0.59252219, 0.65376276],\n",
       "       [0.632568  , 0.81380738, 0.07137869, 0.18856152, 0.29722499,\n",
       "        0.09463239, 0.53373795, 0.59252219, 0.        , 0.24489654],\n",
       "       [0.78831133, 0.78422146, 0.54583095, 0.11090307, 0.40548423,\n",
       "        0.07721714, 0.18544834, 0.65376276, 0.24489654, 0.        ]])"
      ]
     },
     "execution_count": 63,
     "metadata": {},
     "output_type": "execute_result"
    }
   ],
   "source": [
    "differences_sq.sum(axis = -1)"
   ]
  },
  {
   "cell_type": "code",
   "execution_count": 41,
   "metadata": {},
   "outputs": [
    {
     "data": {
      "text/plain": [
       "(10, 1, 2)"
      ]
     },
     "execution_count": 41,
     "metadata": {},
     "output_type": "execute_result"
    }
   ],
   "source": [
    "x1.shape"
   ]
  },
  {
   "cell_type": "code",
   "execution_count": null,
   "metadata": {},
   "outputs": [],
   "source": [
    "dist_sq = np.sum(x[:, np.newaxis])"
   ]
  },
  {
   "cell_type": "code",
   "execution_count": null,
   "metadata": {},
   "outputs": [],
   "source": []
  }
 ],
 "metadata": {
  "kernelspec": {
   "display_name": "Python 3",
   "language": "python",
   "name": "python3"
  },
  "language_info": {
   "codemirror_mode": {
    "name": "ipython",
    "version": 3
   },
   "file_extension": ".py",
   "mimetype": "text/x-python",
   "name": "python",
   "nbconvert_exporter": "python",
   "pygments_lexer": "ipython3",
   "version": "3.7.3"
  }
 },
 "nbformat": 4,
 "nbformat_minor": 4
}
