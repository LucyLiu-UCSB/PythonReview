{
 "cells": [
  {
   "cell_type": "code",
   "execution_count": null,
   "metadata": {},
   "outputs": [],
   "source": [
    "class Solution:\n",
    "    def isValid(self, s:str) ->bool:\n",
    "        stack = []\n",
    "        path = {'(':')', '[':']', '{':'}'}\n",
    "        \n",
    "        for c in s:\n",
    "            if c in '([{':\n",
    "                stack.append(c)\n",
    "            else:\n",
    "                if len(stack) == 0 or c!=path[stack[-1]]:\n",
    "                    return False\n",
    "                stack.pop()\n",
    "        return len(stack) == 0"
   ]
  }
 ],
 "metadata": {
  "kernelspec": {
   "display_name": "Python 3",
   "language": "python",
   "name": "python3"
  },
  "language_info": {
   "codemirror_mode": {
    "name": "ipython",
    "version": 3
   },
   "file_extension": ".py",
   "mimetype": "text/x-python",
   "name": "python",
   "nbconvert_exporter": "python",
   "pygments_lexer": "ipython3",
   "version": "3.7.3"
  }
 },
 "nbformat": 4,
 "nbformat_minor": 4
}
