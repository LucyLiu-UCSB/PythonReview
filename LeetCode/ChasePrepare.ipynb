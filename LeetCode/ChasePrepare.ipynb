{
 "cells": [
  {
   "cell_type": "markdown",
   "metadata": {},
   "source": [
    "## Q0. Some basic python operation"
   ]
  },
  {
   "cell_type": "markdown",
   "metadata": {},
   "source": [
    "### a) read file by line"
   ]
  },
  {
   "cell_type": "code",
   "execution_count": 56,
   "metadata": {},
   "outputs": [
    {
     "name": "stdout",
     "output_type": "stream",
     "text": [
      "# col1 col2 col3\n",
      "\n",
      "0 1 2\n",
      "\n",
      "3 4 5\n",
      "\n",
      "6 7 8\n",
      "\n",
      "9 10 11\n",
      "\n"
     ]
    }
   ],
   "source": [
    "with open('temp.txt') as f:\n",
    "    lines = f.readlines()\n",
    "    \n",
    "for line in lines:\n",
    "    print(line)"
   ]
  },
  {
   "cell_type": "markdown",
   "metadata": {},
   "source": [
    "### b) print element in a list each in a line"
   ]
  },
  {
   "cell_type": "code",
   "execution_count": 60,
   "metadata": {},
   "outputs": [
    {
     "name": "stdout",
     "output_type": "stream",
     "text": [
      "a\n",
      "b\n",
      "c\n",
      "d\n"
     ]
    }
   ],
   "source": [
    "strlist = ['a', 'b', 'c', 'd']\n",
    "print ('\\n'.join([ str(myelement) for myelement in strlist ]))"
   ]
  },
  {
   "cell_type": "code",
   "execution_count": 63,
   "metadata": {},
   "outputs": [
    {
     "name": "stdout",
     "output_type": "stream",
     "text": [
      "a\n",
      "b\n",
      "c\n",
      "d\n"
     ]
    }
   ],
   "source": [
    "for ele in strlist:\n",
    "    print(ele)"
   ]
  },
  {
   "cell_type": "markdown",
   "metadata": {},
   "source": [
    "### c) date in python "
   ]
  },
  {
   "cell_type": "code",
   "execution_count": null,
   "metadata": {},
   "outputs": [],
   "source": []
  },
  {
   "cell_type": "code",
   "execution_count": null,
   "metadata": {},
   "outputs": [],
   "source": []
  },
  {
   "cell_type": "markdown",
   "metadata": {},
   "source": [
    "## Q1. Count the number in a list sum to T"
   ]
  },
  {
   "cell_type": "code",
   "execution_count": null,
   "metadata": {},
   "outputs": [],
   "source": []
  },
  {
   "cell_type": "markdown",
   "metadata": {},
   "source": [
    "## Q2. [Sum of all the numbers that are formed from root to leaf paths](https://www.geeksforgeeks.org/sum-numbers-formed-root-leaf-paths/)\n",
    "\n",
    "From the top to leaves, the recurence is V(T) = (top x 10 + left.subtree) + (top x 10 + right.subtree). Therefore, we proceed from the top to the end.\n"
   ]
  },
  {
   "cell_type": "code",
   "execution_count": 3,
   "metadata": {},
   "outputs": [],
   "source": [
    "### first question is how to define a tree in python?\n",
    "\n",
    "class Node:\n",
    "    \n",
    "    # constructor to create a new node\n",
    "    def __init__(self, data):\n",
    "        self.data = data\n",
    "        self.left = None\n",
    "        self.right = None"
   ]
  },
  {
   "cell_type": "code",
   "execution_count": 39,
   "metadata": {},
   "outputs": [],
   "source": [
    "root = Node(6) \n",
    "root.left = Node(3) # assign a stump to root.left\n",
    "root.right = Node(5)  # assign a stump to root.right\n",
    "root.left.left = Node(2) \n",
    "root.left.right = Node(5) \n",
    "root.right.right = Node(4) \n",
    "root.left.right.left = Node(7) \n",
    "root.left.right.right = Node(4)"
   ]
  },
  {
   "cell_type": "code",
   "execution_count": 40,
   "metadata": {},
   "outputs": [],
   "source": [
    "def treePathSumUntile(root, val): # val = the value of parent note\n",
    "    if root is None: return 0\n",
    "    \n",
    "    val = val*10 + root.data\n",
    "    \n",
    "    if root.left is None and root.right is None:\n",
    "        return val\n",
    "    return treePathSumUntile(root.left, val) + treePathSumUntile(root.right, val)\n",
    "\n",
    "def treePathSum(root):\n",
    "    return treePathSumUntile(root, 0)"
   ]
  },
  {
   "cell_type": "code",
   "execution_count": 41,
   "metadata": {},
   "outputs": [
    {
     "name": "stdout",
     "output_type": "stream",
     "text": [
      "sum of all path is 13997\n"
     ]
    }
   ],
   "source": [
    "print ('sum of all path is', treePathSum(root))"
   ]
  },
  {
   "cell_type": "markdown",
   "metadata": {},
   "source": [
    "## Q3. [Print all possible words from phone digits](https://www.geeksforgeeks.org/find-possible-words-phone-digits/)"
   ]
  },
  {
   "cell_type": "code",
   "execution_count": 50,
   "metadata": {},
   "outputs": [],
   "source": [
    "hashTable = ['', '', 'ABC', 'DEF', 'GHI', 'JKL', 'MNO', 'PQRS', 'TUV', 'WXYZ']\n",
    "def printWordUntil(number, curr, outlist):\n",
    "    \n",
    "    n = len(number)\n",
    "    if curr == n: return outlist\n",
    "    \n",
    "    # use boardcasting in numpy\n",
    "    outlist = outlist + np.char.array(list(hashTable[number[curr]])).reshape((len(hashTable[number[curr]]), 1))\n",
    "    outlist = outlist.T.ravel()\n",
    "    \n",
    "    return printWordUntil(number, curr + 1, outlist)\n",
    "\n",
    "def printWord(number):\n",
    "    outlist = np.char.array([''])\n",
    "    res = printWordUntil(number, 0, outlist)\n",
    "    return res"
   ]
  },
  {
   "cell_type": "code",
   "execution_count": null,
   "metadata": {},
   "outputs": [],
   "source": [
    "number = [2,3,4]\n",
    "list(printWord(number))"
   ]
  },
  {
   "cell_type": "markdown",
   "metadata": {},
   "source": [
    "## Q4. [Trapping Rain Water](https://www.geeksforgeeks.org/trapping-rain-water/)"
   ]
  },
  {
   "cell_type": "code",
   "execution_count": null,
   "metadata": {},
   "outputs": [],
   "source": []
  },
  {
   "cell_type": "markdown",
   "metadata": {},
   "source": [
    "## Q5. Implement Collaborative Filtering"
   ]
  },
  {
   "cell_type": "code",
   "execution_count": 65,
   "metadata": {},
   "outputs": [
    {
     "name": "stdout",
     "output_type": "stream",
     "text": [
      "0 Rock\n",
      "1 Blues\n",
      "2 Jazz\n"
     ]
    },
    {
     "data": {
      "text/plain": [
       "{'Rock': 0, 'Blues': 1, 'Jazz': 2}"
      ]
     },
     "execution_count": 65,
     "metadata": {},
     "output_type": "execute_result"
    }
   ],
   "source": [
    "arr = ['Rock','Blues','Jazz']\n",
    "hashTable = {}\n",
    "for value, key in enumerate(arr):\n",
    "    print(value, key)\n",
    "    hashTable[key] = value\n",
    "hashTable"
   ]
  },
  {
   "cell_type": "code",
   "execution_count": 90,
   "metadata": {},
   "outputs": [],
   "source": [
    "def codeNum(arr, hashTable):\n",
    "    codeList = []\n",
    "    for item in arr:\n",
    "        codeList.append(hashTable[item])  \n",
    "    return codeList"
   ]
  },
  {
   "cell_type": "code",
   "execution_count": 85,
   "metadata": {},
   "outputs": [
    {
     "name": "stdout",
     "output_type": "stream",
     "text": [
      "{'Bob': ['Rock', 'Blues', 'Jazz'], 'Alice': ['Rock', 'Jazz', 'Blues'], 'John': ['Jazz', 'Blues', 'Rock']}\n"
     ]
    }
   ],
   "source": [
    "with open('chaseFilter.txt') as f:\n",
    "    lines = f.readlines()\n",
    "rawdict = {}\n",
    "for line in lines:\n",
    "    res = line.strip().split(':')\n",
    "    rate = res[1]\n",
    "    rate = rate.split(',')\n",
    "    rawdict[res[0]] = rate\n",
    "print(rawdict)"
   ]
  },
  {
   "cell_type": "code",
   "execution_count": 81,
   "metadata": {},
   "outputs": [],
   "source": [
    "def countInversion(arr):\n",
    "    \n",
    "    if len(arr) == 1: return 0, arr\n",
    "    \n",
    "    left = arr[0:int(len(arr)/2)]\n",
    "    right = arr[int(len(arr)/2):]\n",
    "    \n",
    "    leftcount, leftsort = countInversion(left)\n",
    "    rightcount, rightsort = countInversion(right)\n",
    "    \n",
    "    sortList = []\n",
    "    i = 0\n",
    "    j = 0\n",
    "    splitcount = 0\n",
    "    \n",
    "    while i < len(left) and j < len(right):\n",
    "        if leftsort[i] <= rightsort[j]:\n",
    "            sortList.append(leftsort[i])\n",
    "            i = i + 1\n",
    "        else: \n",
    "            sortList.append(rightsort[j])\n",
    "            splitcount = splitcount + len(left) - i\n",
    "            j = j + 1\n",
    "    splitcount = splitcount + leftcount + rightcount\n",
    "    \n",
    "    sortList = sortList + leftsort[i:]\n",
    "    sortList = sortList + rightsort[j:]\n",
    "    \n",
    "    return splitcount, sortList"
   ]
  },
  {
   "cell_type": "code",
   "execution_count": 84,
   "metadata": {},
   "outputs": [
    {
     "data": {
      "text/plain": [
       "(3, [1, 2, 4, 6])"
      ]
     },
     "execution_count": 84,
     "metadata": {},
     "output_type": "execute_result"
    }
   ],
   "source": [
    "toylist = [1, 6, 4, 2]\n",
    "countInversion(toylist)"
   ]
  },
  {
   "cell_type": "code",
   "execution_count": 94,
   "metadata": {},
   "outputs": [
    {
     "data": {
      "text/plain": [
       "{'Bob': ['Rock', 'Blues', 'Jazz'],\n",
       " 'Alice': ['Rock', 'Jazz', 'Blues'],\n",
       " 'John': ['Jazz', 'Blues', 'Rock']}"
      ]
     },
     "execution_count": 94,
     "metadata": {},
     "output_type": "execute_result"
    }
   ],
   "source": [
    "arr = rawdict['Bob']\n",
    "hashTable = {}\n",
    "for value, key in enumerate(arr):\n",
    "    hashTable[key] = value\n",
    "rawdict"
   ]
  },
  {
   "cell_type": "code",
   "execution_count": 95,
   "metadata": {},
   "outputs": [
    {
     "data": {
      "text/plain": [
       "(1, [0, 1, 2])"
      ]
     },
     "execution_count": 95,
     "metadata": {},
     "output_type": "execute_result"
    }
   ],
   "source": [
    "Alice_Bob = codeNum(rawdict['Alice'], hashTable)\n",
    "countInversion(Alice_Bob)"
   ]
  },
  {
   "cell_type": "markdown",
   "metadata": {},
   "source": [
    "## Q6. k-th order statistic "
   ]
  },
  {
   "cell_type": "markdown",
   "metadata": {},
   "source": [
    "### a) Sort and Print"
   ]
  },
  {
   "cell_type": "code",
   "execution_count": 1,
   "metadata": {},
   "outputs": [],
   "source": [
    "import numpy as np\n",
    "simulist = np.random.permutation(9)\n",
    "simulist = list(simulist)"
   ]
  },
  {
   "cell_type": "code",
   "execution_count": 78,
   "metadata": {},
   "outputs": [],
   "source": [
    "def kthOrderStat(arr, k):\n",
    "    arr.sort()\n",
    "    return arr[k-1]"
   ]
  },
  {
   "cell_type": "code",
   "execution_count": 81,
   "metadata": {},
   "outputs": [
    {
     "data": {
      "text/plain": [
       "[4, 5, 6, 7, 8]"
      ]
     },
     "execution_count": 81,
     "metadata": {},
     "output_type": "execute_result"
    }
   ],
   "source": [
    "kthOrderStat(simulist, 5)"
   ]
  },
  {
   "cell_type": "markdown",
   "metadata": {},
   "source": [
    "### b) Quicksort -- on average O(n), but worst time O(n^2)"
   ]
  },
  {
   "cell_type": "code",
   "execution_count": 45,
   "metadata": {},
   "outputs": [],
   "source": [
    "def kthOrderStat_QuickSort(arr, k):\n",
    "    if k > len(arr): return arr\n",
    "    pivot = arr[0]\n",
    "    i = 0\n",
    "    j = 1\n",
    "    while j < len(arr):\n",
    "        if arr[j] >= pivot: \n",
    "            j = j + 1\n",
    "        else:\n",
    "            arr[i + 1], arr[j] = arr[j], arr[i + 1]\n",
    "            j = j + 1\n",
    "            i = i + 1\n",
    "    arr[0], arr[i] = arr[i], arr[0]\n",
    "    \n",
    "    if i+1 == k: return pivot\n",
    "    elif i > k:\n",
    "        return kthOrderStat_QuickSort(arr[0:i], k)\n",
    "    else:\n",
    "        return kthOrderStat_QuickSort(arr[i+1:], k - (i+1))       "
   ]
  },
  {
   "cell_type": "code",
   "execution_count": 46,
   "metadata": {},
   "outputs": [
    {
     "name": "stdout",
     "output_type": "stream",
     "text": [
      "[9, 6, 1, 4, 13, 5, 16, 12, 2, 19, 15, 0, 8, 14, 3, 18, 10, 7, 11, 17]\n",
      "12\n"
     ]
    }
   ],
   "source": [
    "simulist = np.random.permutation(20)\n",
    "simulist = list(simulist)\n",
    "print(simulist)\n",
    "res = kthOrderStat_QuickSort(simulist, 13)\n",
    "print(res)"
   ]
  },
  {
   "cell_type": "markdown",
   "metadata": {},
   "source": [
    "### c) A deterministic O(n) median of median algorithm"
   ]
  },
  {
   "cell_type": "code",
   "execution_count": 60,
   "metadata": {},
   "outputs": [],
   "source": [
    "def choosePivot(arr):\n",
    "    if len(arr) < 5: return arr[0]\n",
    "    else:\n",
    "        medianList = []\n",
    "        for i in range(len(arr)//5):\n",
    "            sublist = arr[i*5 : i*5+5]\n",
    "            sublist.sort()\n",
    "            medianList.append(sublist[2])\n",
    "    medianList.sort()\n",
    "    return medianList[int(len(medianList)/2)]\n",
    "            "
   ]
  },
  {
   "cell_type": "code",
   "execution_count": 61,
   "metadata": {},
   "outputs": [],
   "source": [
    "def kthOrderStat_linearTime(arr, k):\n",
    "    if k > len(arr): return arr\n",
    "    pivot = choosePivot(arr)\n",
    "    i = 0\n",
    "    j = 1\n",
    "    while j < len(arr):\n",
    "        if arr[j] >= pivot: \n",
    "            j = j + 1\n",
    "        else:\n",
    "            arr[i + 1], arr[j] = arr[j], arr[i + 1]\n",
    "            j = j + 1\n",
    "            i = i + 1\n",
    "    arr[0], arr[i] = arr[i], arr[0]\n",
    "    \n",
    "    if i+1 == k: return pivot\n",
    "    elif i > k:\n",
    "        return kthOrderStat_linearTime(arr[0:i], k)\n",
    "    else:\n",
    "        return kthOrderStat_linearTime(arr[i+1:], k - (i+1))"
   ]
  },
  {
   "cell_type": "code",
   "execution_count": 62,
   "metadata": {},
   "outputs": [
    {
     "name": "stdout",
     "output_type": "stream",
     "text": [
      "[3, 16, 15, 13, 12, 7, 19, 6, 1, 4, 18, 9, 17, 10, 14, 11, 5, 8, 0, 2]\n",
      "12\n"
     ]
    }
   ],
   "source": [
    "simulist = np.random.permutation(20)\n",
    "simulist = list(simulist)\n",
    "print(simulist)\n",
    "res = kthOrderStat_QuickSort(simulist, 13)\n",
    "print(res)"
   ]
  },
  {
   "cell_type": "markdown",
   "metadata": {},
   "source": [
    "## Q7. Volume change according to the largest sum"
   ]
  },
  {
   "cell_type": "markdown",
   "metadata": {},
   "source": [
    "Input:\n",
    "\n",
    "28,54,812,438 \\\n",
    "12,35,78,26 \\\n",
    "18,2,212,5\n",
    "\n",
    "Output:\n",
    "\n",
    "3,7,100,54 \\\n",
    "15,45,100,33 \\\n",
    "8,1,100,2\n"
   ]
  },
  {
   "cell_type": "code",
   "execution_count": 105,
   "metadata": {},
   "outputs": [
    {
     "name": "stdout",
     "output_type": "stream",
     "text": [
      "[15, 45, 100, 33]\n"
     ]
    }
   ],
   "source": [
    "arr = [12,35,78,26 ]\n",
    "maxele = max(arr)\n",
    "res = [round(e/maxele*100) for e in arr]\n",
    "print(res)"
   ]
  },
  {
   "cell_type": "code",
   "execution_count": 106,
   "metadata": {},
   "outputs": [
    {
     "name": "stdout",
     "output_type": "stream",
     "text": [
      "[8, 1, 100, 2]\n"
     ]
    }
   ],
   "source": [
    "arr = [18,2,212,5]\n",
    "maxele = max(arr)\n",
    "res = [round(e/maxele*100) for e in arr]\n",
    "print(res)"
   ]
  },
  {
   "cell_type": "markdown",
   "metadata": {},
   "source": [
    "## Q8. Median of Median"
   ]
  },
  {
   "cell_type": "code",
   "execution_count": 116,
   "metadata": {},
   "outputs": [],
   "source": [
    "def median_median(arr, k):\n",
    "    \n",
    "    if len(arr) <= k:\n",
    "        arr.sort()\n",
    "        return arr[int(len(arr)/2)]\n",
    "    \n",
    "    medlist = []\n",
    "    for i in range(len(arr)//k):\n",
    "        sublist = arr[i*k : i*k + k]\n",
    "        sublist.sort()\n",
    "        medlist.append(sublist[int(k/2)])\n",
    "    \n",
    "    lastsublist = arr[-len(arr)%k : ]\n",
    "    lastsublist.sort()\n",
    "    medlist.append(lastsublist[int(len(lastsublist)/2)])\n",
    "    \n",
    "    return median_median(medlist, k)\n",
    "    "
   ]
  },
  {
   "cell_type": "code",
   "execution_count": 123,
   "metadata": {},
   "outputs": [
    {
     "data": {
      "text/plain": [
       "55"
      ]
     },
     "execution_count": 123,
     "metadata": {},
     "output_type": "execute_result"
    }
   ],
   "source": [
    "arr = np.random.permutation(100)\n",
    "median_median(arr, 5)"
   ]
  },
  {
   "cell_type": "markdown",
   "metadata": {},
   "source": [
    "## Q9. compute moving average and compare"
   ]
  },
  {
   "cell_type": "code",
   "execution_count": null,
   "metadata": {},
   "outputs": [],
   "source": []
  },
  {
   "cell_type": "markdown",
   "metadata": {},
   "source": [
    "## Q10. Max range sum"
   ]
  },
  {
   "cell_type": "code",
   "execution_count": 134,
   "metadata": {},
   "outputs": [],
   "source": [
    "def maxRangeSum(arr):\n",
    "    if len(arr) == 1: maxSum = arr[0]\n",
    "    else:\n",
    "        maxrec = arr[0]\n",
    "        j = 1\n",
    "        histmax = [0]*len(arr)\n",
    "        histmax[0] = arr[0]\n",
    "    while j < len(arr):\n",
    "        histmax[j] = max(arr[j], histmax[j-1] + arr[j])\n",
    "        if  histmax[j] > maxrec: maxrec = histmax[j]\n",
    "        j = j + 1\n",
    "    \n",
    "    return max(maxrec, 0)    "
   ]
  },
  {
   "cell_type": "code",
   "execution_count": 135,
   "metadata": {},
   "outputs": [
    {
     "data": {
      "text/plain": [
       "17"
      ]
     },
     "execution_count": 135,
     "metadata": {},
     "output_type": "execute_result"
    }
   ],
   "source": [
    "arr = [-1, 6, 9, 2, -11, 1]\n",
    "maxRangeSum(arr)\n"
   ]
  },
  {
   "cell_type": "markdown",
   "metadata": {},
   "source": [
    "## Q11. Happy number"
   ]
  },
  {
   "cell_type": "markdown",
   "metadata": {},
   "source": [
    "## Q12. Coin change 2"
   ]
  },
  {
   "cell_type": "code",
   "execution_count": 11,
   "metadata": {},
   "outputs": [],
   "source": [
    "import numpy as np\n",
    "def change(amount: int, coins) -> int:\n",
    "    if amount == 0: return 1\n",
    "    coins.sort()\n",
    "    arr = np.zeros(shape = (len(coins) + 1, amount+1))\n",
    "\n",
    "    arr[0, :] = 0 # this row does not have coins\n",
    "    arr[:, 0] = 1 # this row does not values\n",
    "\n",
    "    for i in range(1, len(coins) + 1):\n",
    "        for j in range(1, amount + 1):\n",
    "            #print(j)\n",
    "            sec = arr[i, j - coins[i-1]] if j >= coins[i-1] else 0\n",
    "            arr[i, j] = arr[i-1, j] + sec\n",
    "    return arr[-1, -1]\n"
   ]
  },
  {
   "cell_type": "code",
   "execution_count": 12,
   "metadata": {},
   "outputs": [
    {
     "data": {
      "text/plain": [
       "4.0"
      ]
     },
     "execution_count": 12,
     "metadata": {},
     "output_type": "execute_result"
    }
   ],
   "source": [
    "change(5, [1,2,5])"
   ]
  },
  {
   "cell_type": "code",
   "execution_count": 15,
   "metadata": {},
   "outputs": [],
   "source": [
    "def change(amount: int, coins) -> int:\n",
    "    ways = [0]*(amount + 1)\n",
    "    \n",
    "    ways[0] = 1\n",
    "    for coin in coins:\n",
    "        for a in range(1, amount + 1):\n",
    "            if coin <= a:\n",
    "                ways[a] = ways[a] + ways[a - coin]\n",
    "    return ways[-1]\n"
   ]
  },
  {
   "cell_type": "code",
   "execution_count": 16,
   "metadata": {},
   "outputs": [
    {
     "data": {
      "text/plain": [
       "4"
      ]
     },
     "execution_count": 16,
     "metadata": {},
     "output_type": "execute_result"
    }
   ],
   "source": [
    "change(5, [1,2,5])"
   ]
  },
  {
   "cell_type": "markdown",
   "metadata": {},
   "source": [
    "## Q13. Coin change"
   ]
  },
  {
   "cell_type": "code",
   "execution_count": 35,
   "metadata": {},
   "outputs": [],
   "source": [
    "def coinChange(coins, amount: int) -> int:\n",
    "    nums = [-1 for i in range(amount + 1)]\n",
    "    if amount == 0: return 0\n",
    "    nums[0] = 0\n",
    "    coinList = []\n",
    "\n",
    "    for coin in coins:\n",
    "        for a in range(1, amount + 1):  \n",
    "\n",
    "            if a >= coin: \n",
    "\n",
    "                if nums[a] == -1 and nums[a-coin]!= -1: \n",
    "                    nums[a] = nums[a-coin] + 1\n",
    "\n",
    "                if  nums[a-coin] != -1 and nums[a]!= -1: \n",
    "                    if nums[a] > nums[a-coin]: \n",
    "                        nums[a] = nums[a-coin] + 1                    \n",
    "\n",
    "    return nums[-1] #, coinList"
   ]
  }
 ],
 "metadata": {
  "kernelspec": {
   "display_name": "Python 3",
   "language": "python",
   "name": "python3"
  },
  "language_info": {
   "codemirror_mode": {
    "name": "ipython",
    "version": 3
   },
   "file_extension": ".py",
   "mimetype": "text/x-python",
   "name": "python",
   "nbconvert_exporter": "python",
   "pygments_lexer": "ipython3",
   "version": "3.7.3"
  }
 },
 "nbformat": 4,
 "nbformat_minor": 4
}
