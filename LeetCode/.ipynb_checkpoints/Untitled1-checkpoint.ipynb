{
 "cells": [
  {
   "cell_type": "code",
   "execution_count": 1,
   "metadata": {},
   "outputs": [],
   "source": [
    "s = \"A man, a plan, a canal: Panama\""
   ]
  },
  {
   "cell_type": "code",
   "execution_count": null,
   "metadata": {},
   "outputs": [],
   "source": []
  },
  {
   "cell_type": "code",
   "execution_count": 5,
   "metadata": {},
   "outputs": [
    {
     "data": {
      "text/plain": [
       "':'"
      ]
     },
     "execution_count": 5,
     "metadata": {},
     "output_type": "execute_result"
    }
   ],
   "source": [
    "':'.lower()"
   ]
  },
  {
   "cell_type": "code",
   "execution_count": 6,
   "metadata": {},
   "outputs": [],
   "source": [
    "cl =''"
   ]
  },
  {
   "cell_type": "code",
   "execution_count": 7,
   "metadata": {},
   "outputs": [
    {
     "data": {
      "text/plain": [
       "''"
      ]
     },
     "execution_count": 7,
     "metadata": {},
     "output_type": "execute_result"
    }
   ],
   "source": [
    "cl"
   ]
  },
  {
   "cell_type": "code",
   "execution_count": 8,
   "metadata": {},
   "outputs": [
    {
     "data": {
      "text/plain": [
       "0"
      ]
     },
     "execution_count": 8,
     "metadata": {},
     "output_type": "execute_result"
    }
   ],
   "source": [
    "len(cl)"
   ]
  },
  {
   "cell_type": "code",
   "execution_count": 12,
   "metadata": {},
   "outputs": [
    {
     "data": {
      "text/plain": [
       "False"
      ]
     },
     "execution_count": 12,
     "metadata": {},
     "output_type": "execute_result"
    }
   ],
   "source": [
    "'a'>='b'"
   ]
  },
  {
   "cell_type": "code",
   "execution_count": 14,
   "metadata": {},
   "outputs": [
    {
     "data": {
      "text/plain": [
       "True"
      ]
     },
     "execution_count": 14,
     "metadata": {},
     "output_type": "execute_result"
    }
   ],
   "source": [
    "'9' >'0'"
   ]
  },
  {
   "cell_type": "code",
   "execution_count": 16,
   "metadata": {},
   "outputs": [
    {
     "name": "stdout",
     "output_type": "stream",
     "text": [
      "Object `'fff'.insert()` not found.\n"
     ]
    }
   ],
   "source": [
    "?'fff'.insert()"
   ]
  },
  {
   "cell_type": "code",
   "execution_count": 17,
   "metadata": {},
   "outputs": [],
   "source": [
    "l = list(range(10))"
   ]
  },
  {
   "cell_type": "code",
   "execution_count": 18,
   "metadata": {},
   "outputs": [
    {
     "data": {
      "text/plain": [
       "[0, 1, 2, 3, 4, 5, 6, 7, 8, 9]"
      ]
     },
     "execution_count": 18,
     "metadata": {},
     "output_type": "execute_result"
    }
   ],
   "source": [
    "l"
   ]
  },
  {
   "cell_type": "code",
   "execution_count": 19,
   "metadata": {},
   "outputs": [],
   "source": [
    "l.insert(2,999)"
   ]
  },
  {
   "cell_type": "code",
   "execution_count": 20,
   "metadata": {},
   "outputs": [
    {
     "data": {
      "text/plain": [
       "[0, 1, 999, 2, 3, 4, 5, 6, 7, 8, 9]"
      ]
     },
     "execution_count": 20,
     "metadata": {},
     "output_type": "execute_result"
    }
   ],
   "source": [
    "l"
   ]
  },
  {
   "cell_type": "code",
   "execution_count": 4,
   "metadata": {},
   "outputs": [],
   "source": [
    "class Solution:\n",
    "    def compress(self, chars) -> int:\n",
    "        num_l = 0\n",
    "        num = 1\n",
    "        i = 0\n",
    "        \n",
    "        if len(chars) == 0: return  1\n",
    "        \n",
    "        else:\n",
    "            \n",
    "            while (i < len(chars) - 1):\n",
    "                #jj = jj + 1\n",
    "                #print(jj)\n",
    "                    \n",
    "                if chars[i] == chars[i + 1]:\n",
    "                    num = num + 1\n",
    "                    del chars[i]\n",
    "                   # print(chars)\n",
    "                    if i == len(chars) - 1 and num > 1:\n",
    "                        num_l = num_l + len(str(num))\n",
    "                        num_list = list(str(num))\n",
    "                        for j in range(len(num_list)): \n",
    "                            chars.append(num_list[j])\n",
    "                            i = i + 1\n",
    "                   # print(chars)\n",
    "                elif num > 1: \n",
    "                    num_l = num_l + len(str(num))\n",
    "                    \n",
    "                    num_list = list(str(num))\n",
    "                    for j in range(len(num_list)): \n",
    "                        chars.insert(i+1,num_list[j])\n",
    "                        i = i + 1\n",
    "                    num = 1\n",
    "                    i = i +1 \n",
    "                  #  print(chars)\n",
    "                else:      \n",
    "                    i = i +1   \n",
    "                   # print(chars)\n",
    "                \n",
    "        return len(chars) + num_l"
   ]
  },
  {
   "cell_type": "code",
   "execution_count": 5,
   "metadata": {},
   "outputs": [],
   "source": [
    "tt = Solution()\n",
    "l1 = [\"a\",\"a\",\"b\",\"b\",\"c\",\"c\",\"c\"]"
   ]
  },
  {
   "cell_type": "code",
   "execution_count": 6,
   "metadata": {},
   "outputs": [
    {
     "name": "stdout",
     "output_type": "stream",
     "text": [
      "1\n",
      "['a', 'b', 'b', 'c', 'c', 'c']\n",
      "['a', 'b', 'b', 'c', 'c', 'c']\n",
      "2\n",
      "['a', '2', 'b', 'b', 'c', 'c', 'c']\n",
      "3\n",
      "['a', '2', 'b', 'c', 'c', 'c']\n",
      "['a', '2', 'b', 'c', 'c', 'c']\n",
      "4\n",
      "['a', '2', 'b', '2', 'c', 'c', 'c']\n",
      "5\n",
      "['a', '2', 'b', '2', 'c', 'c']\n",
      "['a', '2', 'b', '2', 'c', 'c']\n",
      "6\n",
      "['a', '2', 'b', '2', 'c']\n",
      "['a', '2', 'b', '2', 'c', '3']\n"
     ]
    }
   ],
   "source": [
    "res1 = tt.compress(l1)"
   ]
  },
  {
   "cell_type": "code",
   "execution_count": null,
   "metadata": {},
   "outputs": [],
   "source": [
    "l1"
   ]
  },
  {
   "cell_type": "code",
   "execution_count": null,
   "metadata": {},
   "outputs": [],
   "source": []
  }
 ],
 "metadata": {
  "kernelspec": {
   "display_name": "Python 3",
   "language": "python",
   "name": "python3"
  },
  "language_info": {
   "codemirror_mode": {
    "name": "ipython",
    "version": 3
   },
   "file_extension": ".py",
   "mimetype": "text/x-python",
   "name": "python",
   "nbconvert_exporter": "python",
   "pygments_lexer": "ipython3",
   "version": "3.7.3"
  }
 },
 "nbformat": 4,
 "nbformat_minor": 4
}
