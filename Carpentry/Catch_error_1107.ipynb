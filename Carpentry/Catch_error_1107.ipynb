{
 "cells": [
  {
   "cell_type": "markdown",
   "metadata": {},
   "source": [
    "## try/except/finally"
   ]
  },
  {
   "cell_type": "code",
   "execution_count": 9,
   "metadata": {},
   "outputs": [
    {
     "name": "stdout",
     "output_type": "stream",
     "text": [
      "Something really went wrong\n",
      "This always run on success or failure\n"
     ]
    }
   ],
   "source": [
    "x = 10\n",
    "y = '0'\n",
    "try: \n",
    "    print(str(x / y))\n",
    "except ZeroDivisionError as e:\n",
    "    print('Sorry, something went wromg')\n",
    "except:\n",
    "    print('Something really went wrong')\n",
    "finally:\n",
    "    print('This always run on success or failure')"
   ]
  },
  {
   "cell_type": "markdown",
   "metadata": {},
   "source": [
    "## condition if/else"
   ]
  },
  {
   "cell_type": "code",
   "execution_count": 14,
   "metadata": {},
   "outputs": [
    {
     "name": "stdout",
     "output_type": "stream",
     "text": [
      "0.07\n",
      "Oh look a Canadian\n"
     ]
    }
   ],
   "source": [
    "price = 100\n",
    "if price >= 1.00:\n",
    "    tax = .07\n",
    "else:\n",
    "    tax = 0\n",
    "print(tax)\n",
    "\n",
    "country = \"CANADA\"\n",
    "if country.lower() == 'canada':\n",
    "    print('Oh look a Canadian')\n",
    "else:\n",
    "    print('You are not from Canada')"
   ]
  },
  {
   "cell_type": "markdown",
   "metadata": {},
   "source": [
    "## elif function"
   ]
  },
  {
   "cell_type": "code",
   "execution_count": 80,
   "metadata": {},
   "outputs": [
    {
     "name": "stdin",
     "output_type": "stream",
     "text": [
      "please enter a integer number: f\n"
     ]
    },
    {
     "name": "stdout",
     "output_type": "stream",
     "text": [
      "input is not a number, try again\n"
     ]
    },
    {
     "name": "stdin",
     "output_type": "stream",
     "text": [
      "please enter a integer number: 3\n"
     ]
    }
   ],
   "source": [
    "while True:\n",
    "    try:\n",
    "        num = int(input('please enter a integer number:'))\n",
    "        break # use to break the while loop\n",
    "    except:\n",
    "        print('input is not a number, try again')"
   ]
  },
  {
   "cell_type": "code",
   "execution_count": 19,
   "metadata": {},
   "outputs": [
    {
     "name": "stdout",
     "output_type": "stream",
     "text": [
      "0.05\n"
     ]
    }
   ],
   "source": [
    "province = 'Alberta'\n",
    "if province == 'Alberta':\n",
    "    tax = 0.05\n",
    "elif province == 'Nunavnt':\n",
    "    tax = 0.05\n",
    "elif province == 'Ontario':\n",
    "    tax = 0.13\n",
    "else:\n",
    "    tax = 0.15\n",
    "print(tax)"
   ]
  },
  {
   "cell_type": "code",
   "execution_count": 37,
   "metadata": {},
   "outputs": [
    {
     "name": "stdout",
     "output_type": "stream",
     "text": [
      "0.05\n"
     ]
    }
   ],
   "source": [
    "province = 'Alberta'\n",
    "if province == 'Alberta' \\\n",
    "   or province == 'Nunavnt': # break the command into two lines\n",
    "    tax = 0.05\n",
    "elif province == 'Ontario':\n",
    "    tax = 0.13\n",
    "else:\n",
    "    tax = 0.15\n",
    "print(tax)"
   ]
  },
  {
   "cell_type": "markdown",
   "metadata": {},
   "source": [
    "## IN operator"
   ]
  },
  {
   "cell_type": "code",
   "execution_count": 44,
   "metadata": {},
   "outputs": [
    {
     "name": "stdout",
     "output_type": "stream",
     "text": [
      "0.05\n"
     ]
    }
   ],
   "source": [
    "if province in('Alberta','Numavut','Yukon'):\n",
    "    tax = 0.05\n",
    "elif province == 'Ontario':\n",
    "    tax = 0.13\n",
    "else:\n",
    "    tax = 0.15\n",
    "print(tax)"
   ]
  }
 ],
 "metadata": {
  "kernelspec": {
   "display_name": "Python 3",
   "language": "python",
   "name": "python3"
  },
  "language_info": {
   "codemirror_mode": {
    "name": "ipython",
    "version": 3
   },
   "file_extension": ".py",
   "mimetype": "text/x-python",
   "name": "python",
   "nbconvert_exporter": "python",
   "pygments_lexer": "ipython3",
   "version": "3.7.3"
  }
 },
 "nbformat": 4,
 "nbformat_minor": 4
}
