{
 "cells": [
  {
   "cell_type": "markdown",
   "metadata": {},
   "source": [
    "## print function"
   ]
  },
  {
   "cell_type": "code",
   "execution_count": 23,
   "metadata": {},
   "outputs": [
    {
     "name": "stdout",
     "output_type": "stream",
     "text": [
      "Hello world\n",
      "Line break \n",
      "line break\n"
     ]
    }
   ],
   "source": [
    "print('Hello world')\n",
    "print('Line break \\nline break') # new line"
   ]
  },
  {
   "cell_type": "markdown",
   "metadata": {},
   "source": [
    "## input function"
   ]
  },
  {
   "cell_type": "code",
   "execution_count": 24,
   "metadata": {},
   "outputs": [
    {
     "name": "stdin",
     "output_type": "stream",
     "text": [
      "What is your name? Lucy\n"
     ]
    },
    {
     "name": "stdout",
     "output_type": "stream",
     "text": [
      "Lucy is 28 old\n",
      "Lucyis\n"
     ]
    }
   ],
   "source": [
    "name = input('What is your name?') # take an input from user\n",
    "age = 28\n",
    "print(name, 'is', age, 'old')\n",
    "print(name  + 'is') # concatenate strings "
   ]
  },
  {
   "cell_type": "markdown",
   "metadata": {},
   "source": [
    "## String casechange"
   ]
  },
  {
   "cell_type": "code",
   "execution_count": 25,
   "metadata": {},
   "outputs": [
    {
     "name": "stdout",
     "output_type": "stream",
     "text": [
      "THE DOG IS NAMED SAMMY\n",
      "the dog is named sammy\n",
      "The dog is named sammy\n",
      "2\n"
     ]
    }
   ],
   "source": [
    "sentence = \"The dog is named Sammy\"\n",
    "print(sentence.upper())\n",
    "print(sentence.lower())\n",
    "print(sentence.capitalize())\n",
    "print(sentence.count('a'))"
   ]
  },
  {
   "cell_type": "markdown",
   "metadata": {},
   "source": [
    "## String indexing"
   ]
  },
  {
   "cell_type": "code",
   "execution_count": 26,
   "metadata": {},
   "outputs": [
    {
     "name": "stdout",
     "output_type": "stream",
     "text": [
      "sentence[0:6] is: The do\n",
      "sentence[1:6] is: he do\n",
      "length of the string is: 22\n",
      "sentence[:9] The dog i\n",
      "sentence[5:-3] og is named Sa\n"
     ]
    }
   ],
   "source": [
    "print('sentence[0:6] is:', sentence[0:6]) # include position 0,1,2,3,4,5\n",
    "print('sentence[1:6] is:', sentence[1:6]) # include position 1,2,3,4,5\n",
    "print('length of the string is:', len(sentence))\n",
    "print('sentence[:9]', sentence[:9]) # all the way to position 8\n",
    "print('sentence[5:-3]', sentence[5:-3]) # from position 5 to -3 position"
   ]
  },
  {
   "cell_type": "markdown",
   "metadata": {},
   "source": [
    "## string find character"
   ]
  },
  {
   "cell_type": "code",
   "execution_count": 8,
   "metadata": {},
   "outputs": [
    {
     "name": "stdout",
     "output_type": "stream",
     "text": [
      "4\n"
     ]
    }
   ],
   "source": [
    "bana = ' this is a banana'\n",
    "ba_index = bana.find('s', 4)\n",
    "print(ba_index)"
   ]
  },
  {
   "cell_type": "markdown",
   "metadata": {},
   "source": [
    "## strip and startwith"
   ]
  },
  {
   "cell_type": "code",
   "execution_count": 13,
   "metadata": {},
   "outputs": [
    {
     "name": "stdout",
     "output_type": "stream",
     "text": [
      "False\n",
      "True\n"
     ]
    }
   ],
   "source": [
    "bana_new = bana.strip()\n",
    "\n",
    "print(bana_new.startswith('Th'))\n",
    "print(bana_new.lower().startswith('th'))"
   ]
  },
  {
   "cell_type": "code",
   "execution_count": null,
   "metadata": {},
   "outputs": [],
   "source": []
  },
  {
   "cell_type": "markdown",
   "metadata": {},
   "source": [
    "## print + string manipulation\n",
    "\n"
   ]
  },
  {
   "cell_type": "code",
   "execution_count": 27,
   "metadata": {},
   "outputs": [
    {
     "name": "stdin",
     "output_type": "stream",
     "text": [
      "please enter your first name: LUCY\n",
      "please enter your last name: LIU\n"
     ]
    },
    {
     "name": "stdout",
     "output_type": "stream",
     "text": [
      "Hello, Lucy Liu\n"
     ]
    }
   ],
   "source": [
    "first_name = input('please enter your first name:')\n",
    "last_name = input('please enter your last name:')\n",
    "print('Hello, ' + first_name.capitalize() + ' ' +  last_name.capitalize() )"
   ]
  },
  {
   "cell_type": "markdown",
   "metadata": {},
   "source": [
    "## Custom string formatting"
   ]
  },
  {
   "cell_type": "code",
   "execution_count": 29,
   "metadata": {},
   "outputs": [
    {
     "name": "stdout",
     "output_type": "stream",
     "text": [
      "Hello, LUCY LIU\n",
      "Hell0, LIU, LUCY\n"
     ]
    }
   ],
   "source": [
    "output = 'Hello, {0} {1}'.format(first_name, last_name)\n",
    "print(output)\n",
    "output = f'Hell0, {last_name}, {first_name}' # formatting the strings\n",
    "print(output)"
   ]
  },
  {
   "cell_type": "markdown",
   "metadata": {},
   "source": [
    "## string format %"
   ]
  },
  {
   "cell_type": "code",
   "execution_count": 15,
   "metadata": {},
   "outputs": [
    {
     "data": {
      "text/plain": [
       "'In 3 years, I have spotted 0.1 camels.'"
      ]
     },
     "execution_count": 15,
     "metadata": {},
     "output_type": "execute_result"
    }
   ],
   "source": [
    "'In %d years, I have spotted %g %s.' % (3, 0.1, 'camels')"
   ]
  },
  {
   "cell_type": "markdown",
   "metadata": {},
   "source": [
    "## working with numbers"
   ]
  },
  {
   "cell_type": "code",
   "execution_count": 30,
   "metadata": {},
   "outputs": [
    {
     "data": {
      "text/plain": [
       "27"
      ]
     },
     "execution_count": 30,
     "metadata": {},
     "output_type": "execute_result"
    }
   ],
   "source": [
    "3 ** 3 # exponential"
   ]
  },
  {
   "cell_type": "markdown",
   "metadata": {},
   "source": [
    "## type of data"
   ]
  },
  {
   "cell_type": "code",
   "execution_count": 37,
   "metadata": {},
   "outputs": [
    {
     "name": "stdout",
     "output_type": "stream",
     "text": [
      "28 days in Februray\n"
     ]
    },
    {
     "name": "stdin",
     "output_type": "stream",
     "text": [
      "Enter first number 2\n",
      "Enter second number 3\n"
     ]
    },
    {
     "name": "stdout",
     "output_type": "stream",
     "text": [
      "5\n"
     ]
    }
   ],
   "source": [
    "days_in_feb = 28\n",
    "float(days_in_feb)\n",
    "print(str(days_in_feb) + ' days in Februray')\n",
    "type(days_in_feb)\n",
    "first_num = input('Enter first number')\n",
    "second_num = input('Enter second number')\n",
    "print(int(first_num) + int(second_num))"
   ]
  },
  {
   "cell_type": "markdown",
   "metadata": {},
   "source": [
    "## Division Types"
   ]
  },
  {
   "cell_type": "code",
   "execution_count": 45,
   "metadata": {},
   "outputs": [
    {
     "name": "stdout",
     "output_type": "stream",
     "text": [
      "7// 3: 2\n",
      "5 / 3: 1.6666666666666667\n",
      "5 % 3: 2\n",
      "8.1415\n"
     ]
    },
    {
     "data": {
      "text/plain": [
       "2"
      ]
     },
     "execution_count": 45,
     "metadata": {},
     "output_type": "execute_result"
    }
   ],
   "source": [
    "print('7// 3:', 7//3) # whole - number/floor division\n",
    "print('5 / 3:', 5/3)\n",
    "print('5 % 3:', 5%3) # modulo\n",
    "print(float(\"3.1415\") + 5)\n",
    "int(float('2.5')) # int('2.5') does not work"
   ]
  },
  {
   "cell_type": "markdown",
   "metadata": {},
   "source": [
    "## date and time using datetime library"
   ]
  },
  {
   "cell_type": "raw",
   "metadata": {},
   "source": [
    "from datetime import datetime, timedelta\n",
    "current_date = datetime.now()\n",
    "print('Today is: ' + str(current_date))"
   ]
  },
  {
   "cell_type": "code",
   "execution_count": 57,
   "metadata": {},
   "outputs": [
    {
     "name": "stdout",
     "output_type": "stream",
     "text": [
      "2019-11-05 23:04:22.035609\n",
      "Day: 6\n",
      "Moth: 11\n",
      "Year: 2019\n"
     ]
    }
   ],
   "source": [
    "type(current_date) \n",
    "one_day = timedelta(days = 1) # remember tab + shift check the parameters \n",
    "yesterday = current_date - one_day # covert the time as compuation on numbers\n",
    "print(yesterday)\n",
    "print('Day: ' + str(current_date.day))\n",
    "print('Moth: ' + str(current_date.month))\n",
    "print('Year: ' + str(current_date.year))"
   ]
  },
  {
   "cell_type": "markdown",
   "metadata": {},
   "source": [
    "## convert string into a datetime object"
   ]
  },
  {
   "cell_type": "code",
   "execution_count": 68,
   "metadata": {},
   "outputs": [
    {
     "name": "stdin",
     "output_type": "stream",
     "text": [
      "When is your birthday (dd/mm/yyy)?  28/06/1991\n"
     ]
    },
    {
     "name": "stdout",
     "output_type": "stream",
     "text": [
      "28/06/1991\n",
      "Brithday: 1991-06-28 00:00:00\n"
     ]
    }
   ],
   "source": [
    "birthday = input('When is your birthday (dd/mm/yyy)? ')\n",
    "print(birthday)\n",
    "birthday_date = datetime.strptime(birthday, '%d/%m/%Y')\n",
    "print('Brithday: ' + str(birthday_date))\n",
    "\n"
   ]
  },
  {
   "cell_type": "code",
   "execution_count": null,
   "metadata": {},
   "outputs": [],
   "source": []
  },
  {
   "cell_type": "code",
   "execution_count": null,
   "metadata": {},
   "outputs": [],
   "source": []
  },
  {
   "cell_type": "code",
   "execution_count": null,
   "metadata": {},
   "outputs": [],
   "source": []
  },
  {
   "cell_type": "code",
   "execution_count": null,
   "metadata": {},
   "outputs": [],
   "source": []
  },
  {
   "cell_type": "code",
   "execution_count": null,
   "metadata": {},
   "outputs": [],
   "source": []
  }
 ],
 "metadata": {
  "kernelspec": {
   "display_name": "Python 3",
   "language": "python",
   "name": "python3"
  },
  "language_info": {
   "codemirror_mode": {
    "name": "ipython",
    "version": 3
   },
   "file_extension": ".py",
   "mimetype": "text/x-python",
   "name": "python",
   "nbconvert_exporter": "python",
   "pygments_lexer": "ipython3",
   "version": "3.7.3"
  }
 },
 "nbformat": 4,
 "nbformat_minor": 4
}
