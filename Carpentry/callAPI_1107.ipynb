{
 "cells": [
  {
   "cell_type": "markdown",
   "metadata": {},
   "source": [
    "## what is an API (Application Programming Interface)\n",
    "\n",
    "Share the funcationality but not the code, provide the function on the server. then we need to know the address in order to call it.\n",
    "\n",
    "The API defines the function names and parameters so others know how to call your function.\n",
    "\n",
    "Learn the parameters of the function before using it.\n",
    "\n",
    "Keys allow me to track which uers have permission to use my web service."
   ]
  },
  {
   "cell_type": "markdown",
   "metadata": {},
   "source": [
    "## HTTP (Hypertext Transfer Protocol)\n",
    "is a standard protocol for sending message across the web\n",
    "\n",
    "* GET limit he volume\n",
    "* POST pass a large volume\n",
    "\n",
    "In Python, the `requests` library simplifies HTTP calls from Python code."
   ]
  },
  {
   "cell_type": "code",
   "execution_count": null,
   "metadata": {},
   "outputs": [],
   "source": [
    "### an example\n",
    "requests.post(address,\n",
    "             http_headers, # content_type, API key\n",
    "             function_parameters,\n",
    "             messge_body) # the image"
   ]
  },
  {
   "cell_type": "markdown",
   "metadata": {},
   "source": [
    "## return data as JSON\n",
    "JSON  is a standard data format\n",
    "\n",
    "using a linting tool to format JSON makes it easier to read\n",
    "\n",
    "JSON contains key paris, key: value/list of values\n",
    "\n",
    "\n",
    "\n"
   ]
  },
  {
   "cell_type": "code",
   "execution_count": 2,
   "metadata": {},
   "outputs": [
    {
     "name": "stdout",
     "output_type": "stream",
     "text": [
      "{\"first\": \"Lucy\", \"last\": \"Liu\", \"city\": \"Santa Barbara\"}\n"
     ]
    }
   ],
   "source": [
    "import json\n",
    "person_dict = {'first': 'Lucy', 'last': 'Liu'}\n",
    "person_dict['city'] = 'Santa Barbara'\n",
    "person_json = json.dumps(person_dict)\n",
    "print(person_json)"
   ]
  },
  {
   "cell_type": "code",
   "execution_count": 4,
   "metadata": {},
   "outputs": [
    {
     "name": "stdout",
     "output_type": "stream",
     "text": [
      "{\"goodStudent\": {\"first\": \"Lucy\", \"last\": \"Liu\", \"city\": \"Santa Barbara\"}}\n"
     ]
    }
   ],
   "source": [
    "staff_dict = {}\n",
    "staff_dict['goodStudent'] = person_dict\n",
    "staff_json = json.dumps(staff_dict)\n",
    "print(staff_json)"
   ]
  },
  {
   "cell_type": "markdown",
   "metadata": {},
   "source": [
    "## Reading an environmental variable"
   ]
  },
  {
   "cell_type": "code",
   "execution_count": 6,
   "metadata": {},
   "outputs": [
    {
     "name": "stdout",
     "output_type": "stream",
     "text": [
      "None\n"
     ]
    }
   ],
   "source": [
    "import os\n",
    "os_version = os.getenv('OS')\n",
    "print(os_version)"
   ]
  },
  {
   "cell_type": "code",
   "execution_count": null,
   "metadata": {},
   "outputs": [],
   "source": []
  }
 ],
 "metadata": {
  "kernelspec": {
   "display_name": "Python 3",
   "language": "python",
   "name": "python3"
  },
  "language_info": {
   "codemirror_mode": {
    "name": "ipython",
    "version": 3
   },
   "file_extension": ".py",
   "mimetype": "text/x-python",
   "name": "python",
   "nbconvert_exporter": "python",
   "pygments_lexer": "ipython3",
   "version": "3.7.3"
  }
 },
 "nbformat": 4,
 "nbformat_minor": 4
}
