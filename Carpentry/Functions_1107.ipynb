{
 "cells": [
  {
   "cell_type": "markdown",
   "metadata": {},
   "source": [
    "## define a function"
   ]
  },
  {
   "cell_type": "code",
   "execution_count": 1,
   "metadata": {},
   "outputs": [
    {
     "name": "stdout",
     "output_type": "stream",
     "text": [
      "task compeleted\n",
      "2019-11-07 08:30:54.149113\n",
      "\n",
      "0\n",
      "1\n",
      "2\n",
      "3\n",
      "4\n",
      "task compeleted\n",
      "2019-11-07 08:30:54.149283\n",
      "\n"
     ]
    }
   ],
   "source": [
    "import datetime\n",
    "\n",
    "def print_time():\n",
    "    print('task compeleted')\n",
    "    print(datetime.datetime.now())\n",
    "    print()\n",
    "\n",
    "first_name = 'Susan'\n",
    "print_time()\n",
    "\n",
    "for x in range(0, 5):\n",
    "    print(x)\n",
    "print_time()"
   ]
  },
  {
   "cell_type": "code",
   "execution_count": 3,
   "metadata": {},
   "outputs": [
    {
     "name": "stdout",
     "output_type": "stream",
     "text": [
      "first name assigned\n",
      "2019-11-07 08:35:07.555817\n",
      "\n"
     ]
    }
   ],
   "source": [
    "from datetime import datetime\n",
    "def print_time(task_name):\n",
    "    print(task_name)\n",
    "    print(datetime.now())\n",
    "    print()\n",
    "    \n",
    "first_name = 'Susan'\n",
    "print_time('first name assigned')"
   ]
  },
  {
   "cell_type": "markdown",
   "metadata": {},
   "source": [
    "## returns a value"
   ]
  },
  {
   "cell_type": "code",
   "execution_count": 6,
   "metadata": {},
   "outputs": [
    {
     "name": "stdin",
     "output_type": "stream",
     "text": [
      "Enter your first name:  ll\n",
      "Enter your last name:  f\n"
     ]
    },
    {
     "name": "stdout",
     "output_type": "stream",
     "text": [
      "Your initials are: LF\n"
     ]
    }
   ],
   "source": [
    "def get_initial(name):\n",
    "    initial = name[0:1].upper()\n",
    "    return initial\n",
    "\n",
    "first_name = input('Enter your first name: ')\n",
    "first_name_initial = get_initial(first_name)\n",
    "\n",
    "last_name = input('Enter your last name: ')\n",
    "last_name_initial = get_initial(last_name)\n",
    "\n",
    "# use nested functions\n",
    "print('Your initials are: ' + first_name_initial + get_initial(last_name))"
   ]
  },
  {
   "cell_type": "code",
   "execution_count": 9,
   "metadata": {},
   "outputs": [
    {
     "name": "stdin",
     "output_type": "stream",
     "text": [
      "Enter your first name:  fff\n"
     ]
    },
    {
     "name": "stdout",
     "output_type": "stream",
     "text": [
      "Your first initial is: f\n"
     ]
    }
   ],
   "source": [
    "def get_initial(name, force_uppercase = True):\n",
    "    if force_uppercase:\n",
    "        initial = name[0:1].upper()\n",
    "    else:\n",
    "        initial = name[0:1]\n",
    "    return initial\n",
    "first_name = input('Enter your first name: ')\n",
    "print('Your first initial is:', get_initial(first_name, force_uppercase = False))"
   ]
  },
  {
   "cell_type": "code",
   "execution_count": 5,
   "metadata": {},
   "outputs": [
    {
     "name": "stdout",
     "output_type": "stream",
     "text": [
      "None\n"
     ]
    },
    {
     "data": {
      "text/plain": [
       "2.0"
      ]
     },
     "execution_count": 5,
     "metadata": {},
     "output_type": "execute_result"
    }
   ],
   "source": [
    "def average(values):\n",
    "    if len(values) == 0:\n",
    "        return None\n",
    "    return sum(values) / len(values)\n",
    "\n",
    "print(average([]))\n",
    "average((1,2,3))"
   ]
  },
  {
   "cell_type": "markdown",
   "metadata": {},
   "source": [
    "## function help document"
   ]
  },
  {
   "cell_type": "code",
   "execution_count": 13,
   "metadata": {},
   "outputs": [],
   "source": [
    "def ave(values):\n",
    "    '''\n",
    "    return the average of list/tuple\n",
    "    for long documentation using this\n",
    "    '''\n",
    "    \n",
    "    if len(values) == 0:\n",
    "        return None\n",
    "    return sum(values)/len(values)"
   ]
  },
  {
   "cell_type": "code",
   "execution_count": 14,
   "metadata": {},
   "outputs": [
    {
     "name": "stdout",
     "output_type": "stream",
     "text": [
      "Help on function ave in module __main__:\n",
      "\n",
      "ave(values)\n",
      "    return the average of list/tuple\n",
      "    for long documentation using this\n",
      "\n"
     ]
    }
   ],
   "source": [
    "help(ave)"
   ]
  },
  {
   "cell_type": "code",
   "execution_count": null,
   "metadata": {},
   "outputs": [],
   "source": []
  },
  {
   "cell_type": "code",
   "execution_count": null,
   "metadata": {},
   "outputs": [],
   "source": []
  }
 ],
 "metadata": {
  "kernelspec": {
   "display_name": "Python 3",
   "language": "python",
   "name": "python3"
  },
  "language_info": {
   "codemirror_mode": {
    "name": "ipython",
    "version": 3
   },
   "file_extension": ".py",
   "mimetype": "text/x-python",
   "name": "python",
   "nbconvert_exporter": "python",
   "pygments_lexer": "ipython3",
   "version": "3.7.3"
  }
 },
 "nbformat": 4,
 "nbformat_minor": 4
}
